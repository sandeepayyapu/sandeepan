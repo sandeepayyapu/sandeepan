{
 "cells": [
  {
   "cell_type": "code",
   "execution_count": null,
   "id": "224745b4",
   "metadata": {},
   "outputs": [],
   "source": [
    " #Assessment:\n",
    "#1.)Python program to captilalize the first and last character of each word in a string\n",
    "#2.)Input:128\n",
    "#ouput:Yes\n",
    "#128%1==0,128%2==0, and 128%8==0.\n",
    "#3.)l1=[1,2,3,4],l2=[5,6,7,8]\n",
    "#add both l1 and l2 and ans=[6,8,10,12]"
   ]
  },
  {
   "cell_type": "code",
   "execution_count": 13,
   "id": "da66c393",
   "metadata": {},
   "outputs": [
    {
     "name": "stdout",
     "output_type": "stream",
     "text": [
      "collage days\n",
      "Collage dayS\n"
     ]
    }
   ],
   "source": [
    "s1 = str(input())\n",
    "n=s1[0].upper()\n",
    "n1=s1[-1].upper()\n",
    "print(n+s1[1:len(s1)-1]+n1)\n",
    "\n",
    "        \n"
   ]
  },
  {
   "cell_type": "code",
   "execution_count": 65,
   "id": "5df386e8",
   "metadata": {},
   "outputs": [
    {
     "name": "stdout",
     "output_type": "stream",
     "text": [
      "1234\n",
      "4\n",
      "3\n",
      "12\n",
      "No\n"
     ]
    }
   ],
   "source": [
    "n= int(input())\n",
    "i=0\n",
    "while n!=0:\n",
    "    rem = n%10\n",
    "    print(rem)\n",
    "    i=n\n",
    "    n=0\n",
    "while i!=0:\n",
    "    rem1 = i%100\n",
    "    k= int(rem1/10)\n",
    "    print(k)\n",
    "    n=i\n",
    "    i=0\n",
    "while n!=0:\n",
    "    rem2 = int(n/100)\n",
    "    print(rem2)\n",
    "    l=n\n",
    "    n=0\n",
    "if l%rem2==0 or l%rem1==0 or l%rem==0:\n",
    "    print(\"Yes\")\n",
    "else :\n",
    "    print(\"No\")"
   ]
  },
  {
   "cell_type": "code",
   "execution_count": 67,
   "id": "ce8f5c74",
   "metadata": {},
   "outputs": [
    {
     "name": "stdout",
     "output_type": "stream",
     "text": [
      "12 34 3 2 \n",
      "1 2 3 4 \n"
     ]
    },
    {
     "ename": "AttributeError",
     "evalue": "'int' object has no attribute 'append'",
     "output_type": "error",
     "traceback": [
      "\u001b[1;31m---------------------------------------------------------------------------\u001b[0m",
      "\u001b[1;31mAttributeError\u001b[0m                            Traceback (most recent call last)",
      "\u001b[1;32mC:\\Users\\LIOSIV~1\\AppData\\Local\\Temp/ipykernel_5828/1382088767.py\u001b[0m in \u001b[0;36m<module>\u001b[1;34m\u001b[0m\n\u001b[0;32m      3\u001b[0m \u001b[0ml3\u001b[0m\u001b[1;33m=\u001b[0m\u001b[1;36m0\u001b[0m\u001b[1;33m\u001b[0m\u001b[1;33m\u001b[0m\u001b[0m\n\u001b[0;32m      4\u001b[0m \u001b[0ml1\u001b[0m\u001b[1;33m+\u001b[0m\u001b[0ml2\u001b[0m\u001b[1;33m\u001b[0m\u001b[1;33m\u001b[0m\u001b[0m\n\u001b[1;32m----> 5\u001b[1;33m \u001b[0ml3\u001b[0m\u001b[1;33m.\u001b[0m\u001b[0mappend\u001b[0m\u001b[1;33m(\u001b[0m\u001b[1;33m)\u001b[0m\u001b[1;33m\u001b[0m\u001b[1;33m\u001b[0m\u001b[0m\n\u001b[0m\u001b[0;32m      6\u001b[0m \u001b[0mprint\u001b[0m\u001b[1;33m(\u001b[0m\u001b[0ml3\u001b[0m\u001b[1;33m)\u001b[0m\u001b[1;33m\u001b[0m\u001b[1;33m\u001b[0m\u001b[0m\n",
      "\u001b[1;31mAttributeError\u001b[0m: 'int' object has no attribute 'append'"
     ]
    }
   ],
   "source": [
    "l1=list(map(int, input().split()))\n",
    "l2=list(map(int, input().split()))\n",
    "l3=0\n",
    "l1+l2\n",
    "l3.append()\n",
    "print(l3)\n"
   ]
  },
  {
   "cell_type": "code",
   "execution_count": 79,
   "id": "f4930b54",
   "metadata": {},
   "outputs": [
    {
     "name": "stdout",
     "output_type": "stream",
     "text": [
      "1 2 3 4 5 \n",
      "{1, 2, 3, 4, 5, 43}\n"
     ]
    }
   ],
   "source": [
    "# ---> set\n",
    "# 1) set can be created using {}\n",
    "#2) the elements inside set are not indexed\n",
    "#3) does not allow duplicate values\n",
    "#4) it unordered \n",
    "#5) heterogeneous --> but accepts only ummutable datatype\n",
    "#6) mutable or changable \n",
    "\n",
    "#eg; \n",
    "#s1 = {9,9,89,7.8,8+7j,(2,8,9),'truck','e'}\n",
    "#print(s1)\n",
    "\n",
    "#Eg: \n",
    "# s2 = {5,8,93,[9,0]}\n",
    "#print(s2)--> error\n",
    "\n",
    "#Eg:\n",
    "# common functions\n",
    "# > min(),max(),len()\n",
    "\n",
    "#eg: \n",
    "# To add elements inside set \n",
    "s1 = set(map(int,input().split()))\n",
    "s1.add(43)\n",
    "print(s1)"
   ]
  },
  {
   "cell_type": "code",
   "execution_count": 82,
   "id": "559b4380",
   "metadata": {},
   "outputs": [
    {
     "name": "stdout",
     "output_type": "stream",
     "text": [
      "1 2 3 4 \n",
      "{1, 2, 3, 4, 43, 23}\n"
     ]
    }
   ],
   "source": [
    "# To add more than one element\n",
    "s1 = set(map(int,input().split()))\n",
    "s1.update([43,23])\n",
    "print(s1)"
   ]
  },
  {
   "cell_type": "code",
   "execution_count": 84,
   "id": "8db9704c",
   "metadata": {},
   "outputs": [
    {
     "name": "stdout",
     "output_type": "stream",
     "text": [
      "1 2 3 4 5\n",
      "{2, 3, 4, 5}\n"
     ]
    }
   ],
   "source": [
    "# to delete one element randomly\n",
    "s1 = set(map(int,input().split()))\n",
    "s1.pop()\n",
    "print(s1)"
   ]
  },
  {
   "cell_type": "code",
   "execution_count": 85,
   "id": "1cebac18",
   "metadata": {},
   "outputs": [
    {
     "name": "stdout",
     "output_type": "stream",
     "text": [
      "1 2 3 4 5 6 7\n",
      "{1, 2, 3, 4, 6, 7}\n"
     ]
    }
   ],
   "source": [
    "# to remove the specific element from the set\n",
    "s1 = set(map(int,input().split()))\n",
    "s1.remove(5) #--> it will show the error when the specific element not in that set\n",
    "print(s1)"
   ]
  },
  {
   "cell_type": "code",
   "execution_count": 87,
   "id": "9c15309e",
   "metadata": {},
   "outputs": [
    {
     "name": "stdout",
     "output_type": "stream",
     "text": [
      "1 2 43 5 6 7\n",
      "{1, 2, 5, 6, 7}\n"
     ]
    }
   ],
   "source": [
    "# to remove the ekements from set \n",
    "s1 = set(map(int,input().split()))\n",
    "s1.discard(43) # it don't send error when the specific element is not found\n",
    "print(s1)"
   ]
  },
  {
   "cell_type": "code",
   "execution_count": 88,
   "id": "6656da99",
   "metadata": {},
   "outputs": [
    {
     "name": "stdout",
     "output_type": "stream",
     "text": [
      "1 2 3 4\n",
      "set()\n"
     ]
    }
   ],
   "source": [
    "s1 = set(map(int,input().split()))\n",
    "s1.clear()\n",
    "print(s1)"
   ]
  },
  {
   "cell_type": "code",
   "execution_count": 89,
   "id": "4ee7b2c1",
   "metadata": {},
   "outputs": [
    {
     "ename": "SyntaxError",
     "evalue": "invalid syntax (Temp/ipykernel_5828/3812406562.py, line 2)",
     "output_type": "error",
     "traceback": [
      "\u001b[1;36m  File \u001b[1;32m\"C:\\Users\\LIOSIV~1\\AppData\\Local\\Temp/ipykernel_5828/3812406562.py\"\u001b[1;36m, line \u001b[1;32m2\u001b[0m\n\u001b[1;33m    s1.del()\u001b[0m\n\u001b[1;37m       ^\u001b[0m\n\u001b[1;31mSyntaxError\u001b[0m\u001b[1;31m:\u001b[0m invalid syntax\n"
     ]
    }
   ],
   "source": [
    "s1 = set(map(int,input().split()))\n",
    "s1.del() # the s1 was fully deleted from the memory\n",
    "print(s1)"
   ]
  },
  {
   "cell_type": "code",
   "execution_count": 90,
   "id": "5f00dd0b",
   "metadata": {},
   "outputs": [
    {
     "name": "stdout",
     "output_type": "stream",
     "text": [
      "{2, 3, 4, 'se', 5, 6}\n"
     ]
    }
   ],
   "source": [
    "# join the sets\n",
    "s1 = {2,3,4}\n",
    "s2 = {5 ,6,'se'}\n",
    "# union() --> used to join the set\n",
    "s3 = s1.union(s2)\n",
    "print(s3)"
   ]
  },
  {
   "cell_type": "code",
   "execution_count": 91,
   "id": "70613775",
   "metadata": {},
   "outputs": [
    {
     "name": "stdout",
     "output_type": "stream",
     "text": [
      "{2, 4}\n"
     ]
    }
   ],
   "source": [
    "# intersection()--> to get the common elements inside set\n",
    "s1 = {2,3,4,5}\n",
    "s2 = {2,4,7,8}\n",
    "print(s1.intersection(s2))"
   ]
  },
  {
   "cell_type": "code",
   "execution_count": 93,
   "id": "daa110b8",
   "metadata": {},
   "outputs": [
    {
     "name": "stdout",
     "output_type": "stream",
     "text": [
      "{3, 5}\n",
      "{8, 7}\n"
     ]
    }
   ],
   "source": [
    "# difference ()--> to get the unique elements in the set\n",
    "s1 = {2,3,4,5}\n",
    "s2 = {2,4,7,8}\n",
    "print(s1.difference(s2))\n",
    "print(s2.difference(s1))"
   ]
  },
  {
   "cell_type": "code",
   "execution_count": 94,
   "id": "57f87fe7",
   "metadata": {},
   "outputs": [
    {
     "name": "stdout",
     "output_type": "stream",
     "text": [
      "{3, 5, 7, 8}\n"
     ]
    }
   ],
   "source": [
    "# symmetric_difference() --> is used to get the unique elements in both the sets \n",
    "s1 = {2,3,4,5}\n",
    "s2 = {2,4,7,8}\n",
    "print(s1.symmetric_difference(s2))"
   ]
  },
  {
   "cell_type": "code",
   "execution_count": 98,
   "id": "6a4f564d",
   "metadata": {},
   "outputs": [
    {
     "name": "stdout",
     "output_type": "stream",
     "text": [
      "True\n",
      "True\n",
      "False\n"
     ]
    }
   ],
   "source": [
    "# isdisjoin() # issubset # issuperset()\n",
    "s1={8,9,0}\n",
    "s2 = {6,7,8,9,0}\n",
    "print(s1.issubset(s2))\n",
    "print(s2.issuperset(s1))\n",
    "print(s2.isdisjoint(s1))"
   ]
  },
  {
   "cell_type": "code",
   "execution_count": 99,
   "id": "39530d0e",
   "metadata": {},
   "outputs": [
    {
     "name": "stdout",
     "output_type": "stream",
     "text": [
      "True\n"
     ]
    }
   ],
   "source": [
    "s1={1,2}\n",
    "s2 = {6,7,8,9,0}\n",
    "print(s2.isdisjoint(s1))"
   ]
  },
  {
   "cell_type": "code",
   "execution_count": 16,
   "id": "4f402848",
   "metadata": {},
   "outputs": [
    {
     "name": "stdout",
     "output_type": "stream",
     "text": [
      " it is a joint set\n"
     ]
    }
   ],
   "source": [
    "s1= {1,2,3,4,5}\n",
    "s2 = {7,8,9}\n",
    "# find out is it a joint or dijoint set"
   ]
  },
  {
   "cell_type": "code",
   "execution_count": 19,
   "id": "cac6ecee",
   "metadata": {},
   "outputs": [
    {
     "name": "stdout",
     "output_type": "stream",
     "text": [
      "{1: 100, 'a': 200, 4.5: 'hello'}\n",
      "3\n",
      "<class 'dict'>\n"
     ]
    }
   ],
   "source": [
    "#-->dictionary\n",
    "# Eg:\n",
    "d1 = {1:100,'a':200,4.5:\"hello\"}\n",
    "print(d1)\n",
    "print(len(d1))\n",
    "print(type(d1))"
   ]
  },
  {
   "cell_type": "code",
   "execution_count": 20,
   "id": "16bc9c3a",
   "metadata": {},
   "outputs": [
    {
     "name": "stdout",
     "output_type": "stream",
     "text": [
      "{1: 100, 2: 200, 3: 300, 4: 400}\n"
     ]
    }
   ],
   "source": [
    "# characteristics of dictionary\n",
    "#1) have to be surrounded {}\n",
    "#2) it have to be in the from of key, value pair\n",
    "#3) it is mutable\n",
    "#4) duplicate keys are not allowed, duplicate values are allowed\n",
    "#5) it is unindexed\n",
    "#6) it is ordered\n",
    "#7) key does not allow mutable datatypes, values allow mutable datatype\n",
    "\n",
    "d1 = {1:100,2:200,3:300,4:400}\n",
    "# To access elements in dictionary \n",
    "print(d1)\n",
    "#To access the values, have to use key\n",
    "print()"
   ]
  },
  {
   "cell_type": "code",
   "execution_count": 22,
   "id": "5f6b5bea",
   "metadata": {},
   "outputs": [
    {
     "name": "stdout",
     "output_type": "stream",
     "text": [
      "1\n",
      "100\n"
     ]
    }
   ],
   "source": [
    "#some Functions in Dictionary\n",
    "#--> len(),max(),min()\n",
    "d1 = {1:100,2:200,3:300,4:400}\n",
    "print(min(d1))\n",
    "print(min(d1.values()))"
   ]
  },
  {
   "cell_type": "code",
   "execution_count": 23,
   "id": "68dfd955",
   "metadata": {},
   "outputs": [
    {
     "name": "stdout",
     "output_type": "stream",
     "text": [
      "4\n",
      "400\n"
     ]
    }
   ],
   "source": [
    "d1 = {1:100,2:200,3:300,4:400}\n",
    "print(max(d1))\n",
    "print(max(d1.values()))"
   ]
  },
  {
   "cell_type": "code",
   "execution_count": 27,
   "id": "4589b6aa",
   "metadata": {},
   "outputs": [
    {
     "name": "stdout",
     "output_type": "stream",
     "text": [
      "{1: 100, 2: 200, 3: 300, 4: 400, 5: 500}\n"
     ]
    }
   ],
   "source": [
    "# add an a element into dictionaray\n",
    "d1 = {1:100,2:200,3:300,4:400}\n",
    "d1[5]=500\n",
    "print(d1)\n",
    "# 5 was the key value in that "
   ]
  },
  {
   "cell_type": "code",
   "execution_count": 29,
   "id": "666b2c46",
   "metadata": {},
   "outputs": [
    {
     "name": "stdout",
     "output_type": "stream",
     "text": [
      "{1: 100, 2: 'mango', 3: 300, 4: 400}\n"
     ]
    }
   ],
   "source": [
    "# to replace the value in dictionary\n",
    "d1 = {1:100,2:200,3:300,4:400}\n",
    "d1[2]=\"mango\"\n",
    "print(d1)"
   ]
  },
  {
   "cell_type": "code",
   "execution_count": 30,
   "id": "65afc7ad",
   "metadata": {},
   "outputs": [
    {
     "name": "stdout",
     "output_type": "stream",
     "text": [
      "{1: 100, 2: 200, 3: 300}\n"
     ]
    }
   ],
   "source": [
    "# To delete elements from dictionary\n",
    "d1 = {1:100,2:200,3:300,4:400}\n",
    "#popitem() --> To delete last key value pair on dictionary\n",
    "d1.popitem()\n",
    "print(d1)"
   ]
  },
  {
   "cell_type": "code",
   "execution_count": 31,
   "id": "4e2b55b9",
   "metadata": {},
   "outputs": [
    {
     "name": "stdout",
     "output_type": "stream",
     "text": [
      "{1: 100, 3: 300, 4: 400}\n"
     ]
    }
   ],
   "source": [
    "d1 = {1:100,2:200,3:300,4:400}\n",
    "d1.pop(2) #--> here 2 is the key in the dictionary\n",
    "print(d1)"
   ]
  },
  {
   "cell_type": "code",
   "execution_count": 32,
   "id": "4497987b",
   "metadata": {},
   "outputs": [
    {
     "name": "stdout",
     "output_type": "stream",
     "text": [
      "{1: 100, 2: 200, 3: 300, 4: 400, 'a': 'apple', 'b': 'boy', 'g': 'game'}\n"
     ]
    }
   ],
   "source": [
    "# clear(), del()\n",
    "\n",
    "# join 2 dictionary\n",
    "# update\n",
    "d1 = {1:100,2:200,3:300,4:400}\n",
    "d2 = {'a':\"apple\",\"b\":'boy','g':'game'}\n",
    "d1.update(d2)\n",
    "print(d1)"
   ]
  },
  {
   "cell_type": "code",
   "execution_count": 36,
   "id": "e8c415d3",
   "metadata": {},
   "outputs": [
    {
     "ename": "KeyError",
     "evalue": "90",
     "output_type": "error",
     "traceback": [
      "\u001b[1;31m---------------------------------------------------------------------------\u001b[0m",
      "\u001b[1;31mKeyError\u001b[0m                                  Traceback (most recent call last)",
      "\u001b[1;32mC:\\Users\\LIOSIV~1\\AppData\\Local\\Temp/ipykernel_3216/480156249.py\u001b[0m in \u001b[0;36m<module>\u001b[1;34m\u001b[0m\n\u001b[0;32m      1\u001b[0m \u001b[1;31m# get\u001b[0m\u001b[1;33m\u001b[0m\u001b[1;33m\u001b[0m\u001b[0m\n\u001b[0;32m      2\u001b[0m \u001b[0md1\u001b[0m \u001b[1;33m=\u001b[0m \u001b[1;33m{\u001b[0m\u001b[1;36m1\u001b[0m\u001b[1;33m:\u001b[0m\u001b[1;36m100\u001b[0m\u001b[1;33m,\u001b[0m\u001b[1;36m2\u001b[0m\u001b[1;33m:\u001b[0m\u001b[1;36m200\u001b[0m\u001b[1;33m,\u001b[0m\u001b[1;36m3\u001b[0m\u001b[1;33m:\u001b[0m\u001b[1;36m300\u001b[0m\u001b[1;33m,\u001b[0m\u001b[1;36m4\u001b[0m\u001b[1;33m:\u001b[0m\u001b[1;36m400\u001b[0m\u001b[1;33m}\u001b[0m\u001b[1;33m\u001b[0m\u001b[1;33m\u001b[0m\u001b[0m\n\u001b[1;32m----> 3\u001b[1;33m \u001b[0mprint\u001b[0m\u001b[1;33m(\u001b[0m\u001b[0md1\u001b[0m\u001b[1;33m[\u001b[0m\u001b[1;36m90\u001b[0m\u001b[1;33m]\u001b[0m\u001b[1;33m)\u001b[0m\u001b[1;33m\u001b[0m\u001b[1;33m\u001b[0m\u001b[0m\n\u001b[0m\u001b[0;32m      4\u001b[0m \u001b[0mprint\u001b[0m\u001b[1;33m(\u001b[0m\u001b[0md1\u001b[0m\u001b[1;33m.\u001b[0m\u001b[0mget\u001b[0m\u001b[1;33m[\u001b[0m\u001b[1;36m90\u001b[0m\u001b[1;33m]\u001b[0m\u001b[1;33m)\u001b[0m\u001b[1;33m\u001b[0m\u001b[1;33m\u001b[0m\u001b[0m\n",
      "\u001b[1;31mKeyError\u001b[0m: 90"
     ]
    }
   ],
   "source": [
    "# get\n",
    "d1 = {1:100,2:200,3:300,4:400}\n",
    "print(d1[90])\n",
    "print(d1.get[90])"
   ]
  },
  {
   "cell_type": "code",
   "execution_count": 37,
   "id": "f5524216",
   "metadata": {},
   "outputs": [
    {
     "name": "stdout",
     "output_type": "stream",
     "text": [
      "dict_keys([1, 2, 3, 4])\n"
     ]
    }
   ],
   "source": [
    "# To print all the keys\n",
    "print(d1.keys())"
   ]
  },
  {
   "cell_type": "code",
   "execution_count": 39,
   "id": "3220ca6c",
   "metadata": {},
   "outputs": [
    {
     "name": "stdout",
     "output_type": "stream",
     "text": [
      "dict_values([100, 200, 300, 400])\n"
     ]
    }
   ],
   "source": [
    "#print all alues\n",
    "print(d1.values())"
   ]
  },
  {
   "cell_type": "code",
   "execution_count": 40,
   "id": "a78e55f4",
   "metadata": {},
   "outputs": [
    {
     "name": "stdout",
     "output_type": "stream",
     "text": [
      "1\n",
      "2\n",
      "3\n",
      "4\n"
     ]
    }
   ],
   "source": [
    "# iterating dictionary\n",
    "for val in d1 : #to iterate keys alone\n",
    "    print(val)"
   ]
  },
  {
   "cell_type": "code",
   "execution_count": 44,
   "id": "4896dc60",
   "metadata": {},
   "outputs": [
    {
     "name": "stdout",
     "output_type": "stream",
     "text": [
      "100\n",
      "200\n",
      "300\n",
      "400\n"
     ]
    }
   ],
   "source": [
    "for v in d1.values(): #to iterate values alone\n",
    "    print(v)"
   ]
  },
  {
   "cell_type": "code",
   "execution_count": 45,
   "id": "42b79215",
   "metadata": {},
   "outputs": [
    {
     "name": "stdout",
     "output_type": "stream",
     "text": [
      "1 100\n",
      "2 200\n",
      "3 300\n",
      "4 400\n"
     ]
    }
   ],
   "source": [
    "# to get both key and values \n",
    "for key,val in d1.items():\n",
    "    print(key,val)"
   ]
  },
  {
   "cell_type": "code",
   "execution_count": 62,
   "id": "3d10f15d",
   "metadata": {},
   "outputs": [
    {
     "name": "stdout",
     "output_type": "stream",
     "text": [
      "3\n",
      "'k'\n",
      "6\n",
      "8.9\n",
      "[6]\n",
      "[8.9]\n",
      "['k']\n"
     ]
    }
   ],
   "source": [
    "s= int(input())\n",
    "integer=[]\n",
    "float_integer=[]\n",
    "string=[]\n",
    "for i in range(s):\n",
    "    n= eval(input())\n",
    "    if type (n)==int:\n",
    "        integer.append(n)\n",
    "    elif type(n)==float:\n",
    "        float_integer.append(n)\n",
    "    elif type(n)==str:\n",
    "        string.append(n)\n",
    "    else :\n",
    "        print(\"pls give somthing\")\n",
    "print(integer)\n",
    "print(float_integer)\n",
    "print(string)\n",
    "        \n",
    "\n"
   ]
  },
  {
   "cell_type": "code",
   "execution_count": 79,
   "id": "59d3166e",
   "metadata": {},
   "outputs": [
    {
     "name": "stdout",
     "output_type": "stream",
     "text": [
      "70\n",
      "60\n",
      "20\n",
      "10\n"
     ]
    }
   ],
   "source": [
    "s1 = {10,20,30,40,50}\n",
    "s2 = {30,40,50,60,70}\n",
    "l=0\n",
    "for i in s2:\n",
    "    if i not in  s1:\n",
    "        print(i)\n",
    "for j in s1:\n",
    "    if j not in s2:\n",
    "        print(j)"
   ]
  },
  {
   "cell_type": "code",
   "execution_count": 81,
   "id": "fa73f9ac",
   "metadata": {},
   "outputs": [
    {
     "name": "stdout",
     "output_type": "stream",
     "text": [
      "{20, 70, 10, 60}\n"
     ]
    }
   ],
   "source": [
    "s1 = {10,20,30,40,50}\n",
    "s2 = {30,40,50,60,70}\n",
    "result=s1^s2\n",
    "print(result)"
   ]
  },
  {
   "cell_type": "code",
   "execution_count": 119,
   "id": "5906f1e1",
   "metadata": {},
   "outputs": [],
   "source": [
    "#Swap element in string list\n",
    "st = ['Gfg','is','best','for','Geeks']\n",
    "l=0\n",
    "for i in range(len(st)):\n",
    "    if 'G' in st:\n",
    "        l=st.replace(\"G\",'e')\n",
    "        print(l)\n",
    "        "
   ]
  },
  {
   "cell_type": "code",
   "execution_count": null,
   "id": "bfa091f5",
   "metadata": {},
   "outputs": [],
   "source": []
  }
 ],
 "metadata": {
  "kernelspec": {
   "display_name": "Python 3 (ipykernel)",
   "language": "python",
   "name": "python3"
  },
  "language_info": {
   "codemirror_mode": {
    "name": "ipython",
    "version": 3
   },
   "file_extension": ".py",
   "mimetype": "text/x-python",
   "name": "python",
   "nbconvert_exporter": "python",
   "pygments_lexer": "ipython3",
   "version": "3.9.7"
  }
 },
 "nbformat": 4,
 "nbformat_minor": 5
}
